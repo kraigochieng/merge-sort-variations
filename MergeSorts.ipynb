{
  "nbformat": 4,
  "nbformat_minor": 0,
  "metadata": {
    "colab": {
      "provenance": [],
      "authorship_tag": "ABX9TyPxwJl/s2Pw5XqiBnbK26Lm",
      "include_colab_link": true
    },
    "kernelspec": {
      "name": "python3",
      "display_name": "Python 3"
    },
    "language_info": {
      "name": "python"
    },
    "widgets": {
      "application/vnd.jupyter.widget-state+json": {
        "72ca0996c27440b592037dff1c3cfde9": {
          "model_module": "@jupyter-widgets/controls",
          "model_name": "HBoxModel",
          "model_module_version": "1.5.0",
          "state": {
            "_dom_classes": [],
            "_model_module": "@jupyter-widgets/controls",
            "_model_module_version": "1.5.0",
            "_model_name": "HBoxModel",
            "_view_count": null,
            "_view_module": "@jupyter-widgets/controls",
            "_view_module_version": "1.5.0",
            "_view_name": "HBoxView",
            "box_style": "",
            "children": [
              "IPY_MODEL_5882368982d64bec859574af6c9e5e0e",
              "IPY_MODEL_7c987e85c7d040ff8d99d5f3ce51141c",
              "IPY_MODEL_2ba9e88c6af14be382ba4edfe50228ac"
            ],
            "layout": "IPY_MODEL_240e849ed24f409c9107febcf4ba2519"
          }
        },
        "5882368982d64bec859574af6c9e5e0e": {
          "model_module": "@jupyter-widgets/controls",
          "model_name": "HTMLModel",
          "model_module_version": "1.5.0",
          "state": {
            "_dom_classes": [],
            "_model_module": "@jupyter-widgets/controls",
            "_model_module_version": "1.5.0",
            "_model_name": "HTMLModel",
            "_view_count": null,
            "_view_module": "@jupyter-widgets/controls",
            "_view_module_version": "1.5.0",
            "_view_name": "HTMLView",
            "description": "",
            "description_tooltip": null,
            "layout": "IPY_MODEL_6876686a0fc94db4bfe627508a0c78e9",
            "placeholder": "​",
            "style": "IPY_MODEL_f3eb9541dcb24a81a47a7f606b55e8a0",
            "value": "100%"
          }
        },
        "7c987e85c7d040ff8d99d5f3ce51141c": {
          "model_module": "@jupyter-widgets/controls",
          "model_name": "FloatProgressModel",
          "model_module_version": "1.5.0",
          "state": {
            "_dom_classes": [],
            "_model_module": "@jupyter-widgets/controls",
            "_model_module_version": "1.5.0",
            "_model_name": "FloatProgressModel",
            "_view_count": null,
            "_view_module": "@jupyter-widgets/controls",
            "_view_module_version": "1.5.0",
            "_view_name": "ProgressView",
            "bar_style": "success",
            "description": "",
            "description_tooltip": null,
            "layout": "IPY_MODEL_5256a1ebc6f24a51adae1da63c7809f0",
            "max": 10,
            "min": 0,
            "orientation": "horizontal",
            "style": "IPY_MODEL_87097edaeac1416284c91a3c405300a4",
            "value": 10
          }
        },
        "2ba9e88c6af14be382ba4edfe50228ac": {
          "model_module": "@jupyter-widgets/controls",
          "model_name": "HTMLModel",
          "model_module_version": "1.5.0",
          "state": {
            "_dom_classes": [],
            "_model_module": "@jupyter-widgets/controls",
            "_model_module_version": "1.5.0",
            "_model_name": "HTMLModel",
            "_view_count": null,
            "_view_module": "@jupyter-widgets/controls",
            "_view_module_version": "1.5.0",
            "_view_name": "HTMLView",
            "description": "",
            "description_tooltip": null,
            "layout": "IPY_MODEL_b092d5d39a82498db9106929adb7d975",
            "placeholder": "​",
            "style": "IPY_MODEL_f6b12e8623034e87a5df97a200029b35",
            "value": " 10/10 [00:00&lt;00:00, 56.69it/s]"
          }
        },
        "240e849ed24f409c9107febcf4ba2519": {
          "model_module": "@jupyter-widgets/base",
          "model_name": "LayoutModel",
          "model_module_version": "1.2.0",
          "state": {
            "_model_module": "@jupyter-widgets/base",
            "_model_module_version": "1.2.0",
            "_model_name": "LayoutModel",
            "_view_count": null,
            "_view_module": "@jupyter-widgets/base",
            "_view_module_version": "1.2.0",
            "_view_name": "LayoutView",
            "align_content": null,
            "align_items": null,
            "align_self": null,
            "border": null,
            "bottom": null,
            "display": null,
            "flex": null,
            "flex_flow": null,
            "grid_area": null,
            "grid_auto_columns": null,
            "grid_auto_flow": null,
            "grid_auto_rows": null,
            "grid_column": null,
            "grid_gap": null,
            "grid_row": null,
            "grid_template_areas": null,
            "grid_template_columns": null,
            "grid_template_rows": null,
            "height": null,
            "justify_content": null,
            "justify_items": null,
            "left": null,
            "margin": null,
            "max_height": null,
            "max_width": null,
            "min_height": null,
            "min_width": null,
            "object_fit": null,
            "object_position": null,
            "order": null,
            "overflow": null,
            "overflow_x": null,
            "overflow_y": null,
            "padding": null,
            "right": null,
            "top": null,
            "visibility": null,
            "width": null
          }
        },
        "6876686a0fc94db4bfe627508a0c78e9": {
          "model_module": "@jupyter-widgets/base",
          "model_name": "LayoutModel",
          "model_module_version": "1.2.0",
          "state": {
            "_model_module": "@jupyter-widgets/base",
            "_model_module_version": "1.2.0",
            "_model_name": "LayoutModel",
            "_view_count": null,
            "_view_module": "@jupyter-widgets/base",
            "_view_module_version": "1.2.0",
            "_view_name": "LayoutView",
            "align_content": null,
            "align_items": null,
            "align_self": null,
            "border": null,
            "bottom": null,
            "display": null,
            "flex": null,
            "flex_flow": null,
            "grid_area": null,
            "grid_auto_columns": null,
            "grid_auto_flow": null,
            "grid_auto_rows": null,
            "grid_column": null,
            "grid_gap": null,
            "grid_row": null,
            "grid_template_areas": null,
            "grid_template_columns": null,
            "grid_template_rows": null,
            "height": null,
            "justify_content": null,
            "justify_items": null,
            "left": null,
            "margin": null,
            "max_height": null,
            "max_width": null,
            "min_height": null,
            "min_width": null,
            "object_fit": null,
            "object_position": null,
            "order": null,
            "overflow": null,
            "overflow_x": null,
            "overflow_y": null,
            "padding": null,
            "right": null,
            "top": null,
            "visibility": null,
            "width": null
          }
        },
        "f3eb9541dcb24a81a47a7f606b55e8a0": {
          "model_module": "@jupyter-widgets/controls",
          "model_name": "DescriptionStyleModel",
          "model_module_version": "1.5.0",
          "state": {
            "_model_module": "@jupyter-widgets/controls",
            "_model_module_version": "1.5.0",
            "_model_name": "DescriptionStyleModel",
            "_view_count": null,
            "_view_module": "@jupyter-widgets/base",
            "_view_module_version": "1.2.0",
            "_view_name": "StyleView",
            "description_width": ""
          }
        },
        "5256a1ebc6f24a51adae1da63c7809f0": {
          "model_module": "@jupyter-widgets/base",
          "model_name": "LayoutModel",
          "model_module_version": "1.2.0",
          "state": {
            "_model_module": "@jupyter-widgets/base",
            "_model_module_version": "1.2.0",
            "_model_name": "LayoutModel",
            "_view_count": null,
            "_view_module": "@jupyter-widgets/base",
            "_view_module_version": "1.2.0",
            "_view_name": "LayoutView",
            "align_content": null,
            "align_items": null,
            "align_self": null,
            "border": null,
            "bottom": null,
            "display": null,
            "flex": null,
            "flex_flow": null,
            "grid_area": null,
            "grid_auto_columns": null,
            "grid_auto_flow": null,
            "grid_auto_rows": null,
            "grid_column": null,
            "grid_gap": null,
            "grid_row": null,
            "grid_template_areas": null,
            "grid_template_columns": null,
            "grid_template_rows": null,
            "height": null,
            "justify_content": null,
            "justify_items": null,
            "left": null,
            "margin": null,
            "max_height": null,
            "max_width": null,
            "min_height": null,
            "min_width": null,
            "object_fit": null,
            "object_position": null,
            "order": null,
            "overflow": null,
            "overflow_x": null,
            "overflow_y": null,
            "padding": null,
            "right": null,
            "top": null,
            "visibility": null,
            "width": null
          }
        },
        "87097edaeac1416284c91a3c405300a4": {
          "model_module": "@jupyter-widgets/controls",
          "model_name": "ProgressStyleModel",
          "model_module_version": "1.5.0",
          "state": {
            "_model_module": "@jupyter-widgets/controls",
            "_model_module_version": "1.5.0",
            "_model_name": "ProgressStyleModel",
            "_view_count": null,
            "_view_module": "@jupyter-widgets/base",
            "_view_module_version": "1.2.0",
            "_view_name": "StyleView",
            "bar_color": null,
            "description_width": ""
          }
        },
        "b092d5d39a82498db9106929adb7d975": {
          "model_module": "@jupyter-widgets/base",
          "model_name": "LayoutModel",
          "model_module_version": "1.2.0",
          "state": {
            "_model_module": "@jupyter-widgets/base",
            "_model_module_version": "1.2.0",
            "_model_name": "LayoutModel",
            "_view_count": null,
            "_view_module": "@jupyter-widgets/base",
            "_view_module_version": "1.2.0",
            "_view_name": "LayoutView",
            "align_content": null,
            "align_items": null,
            "align_self": null,
            "border": null,
            "bottom": null,
            "display": null,
            "flex": null,
            "flex_flow": null,
            "grid_area": null,
            "grid_auto_columns": null,
            "grid_auto_flow": null,
            "grid_auto_rows": null,
            "grid_column": null,
            "grid_gap": null,
            "grid_row": null,
            "grid_template_areas": null,
            "grid_template_columns": null,
            "grid_template_rows": null,
            "height": null,
            "justify_content": null,
            "justify_items": null,
            "left": null,
            "margin": null,
            "max_height": null,
            "max_width": null,
            "min_height": null,
            "min_width": null,
            "object_fit": null,
            "object_position": null,
            "order": null,
            "overflow": null,
            "overflow_x": null,
            "overflow_y": null,
            "padding": null,
            "right": null,
            "top": null,
            "visibility": null,
            "width": null
          }
        },
        "f6b12e8623034e87a5df97a200029b35": {
          "model_module": "@jupyter-widgets/controls",
          "model_name": "DescriptionStyleModel",
          "model_module_version": "1.5.0",
          "state": {
            "_model_module": "@jupyter-widgets/controls",
            "_model_module_version": "1.5.0",
            "_model_name": "DescriptionStyleModel",
            "_view_count": null,
            "_view_module": "@jupyter-widgets/base",
            "_view_module_version": "1.2.0",
            "_view_name": "StyleView",
            "description_width": ""
          }
        }
      }
    }
  },
  "cells": [
    {
      "cell_type": "markdown",
      "metadata": {
        "id": "view-in-github",
        "colab_type": "text"
      },
      "source": [
        "<a href=\"https://colab.research.google.com/github/kraigochieng/merge-sort-variations/blob/main/MergeSorts.ipynb\" target=\"_parent\"><img src=\"https://colab.research.google.com/assets/colab-badge.svg\" alt=\"Open In Colab\"/></a>"
      ]
    },
    {
      "cell_type": "code",
      "source": [
        "import random\n",
        "import time\n",
        "from tqdm.auto import tqdm\n",
        "import numpy as np\n",
        "import matplotlib.pyplot as plt"
      ],
      "metadata": {
        "id": "AXTHtTBzOp1h"
      },
      "execution_count": 88,
      "outputs": []
    },
    {
      "cell_type": "code",
      "execution_count": 89,
      "metadata": {
        "id": "Y5wpCwRsBIY9"
      },
      "outputs": [],
      "source": [
        "def merge(left, right):\n",
        "    result = []\n",
        "    i, j = 0, 0\n",
        "    while i < len(left) and j < len(right):\n",
        "        if left[i] < right[j]:\n",
        "            result.append(left[i])\n",
        "            i += 1\n",
        "        else:\n",
        "            result.append(right[j])\n",
        "            j += 1\n",
        "    # Append remaining elements from left and right, if any\n",
        "    for k in range(i, len(left)):\n",
        "        result.append(left[k])\n",
        "\n",
        "    for k in range(j, len(right)):\n",
        "        result.append(right[k])\n",
        "\n",
        "    return result\n",
        "\n",
        "\n",
        "def basic_merge_sort(array):\n",
        "    if len(array) <= 1:\n",
        "        return array\n",
        "\n",
        "    mid = len(array) // 2\n",
        "\n",
        "    left_array = []\n",
        "    for i in range(mid):\n",
        "        left_array.append(array[i])\n",
        "\n",
        "    right_array = []\n",
        "    for i in range(mid, len(array)):\n",
        "        right_array.append(array[i])\n",
        "\n",
        "    left = basic_merge_sort(left_array)\n",
        "    right = basic_merge_sort(right_array)\n",
        "\n",
        "    return merge(left, right)\n"
      ]
    },
    {
      "cell_type": "code",
      "source": [
        "def top_down_merge_sort(data):\n",
        "    if len(data) <= 1:\n",
        "        return data\n",
        "\n",
        "    mid = len(data) // 2\n",
        "\n",
        "    left = []\n",
        "    for i in range(mid):\n",
        "        left.append(data[i])\n",
        "\n",
        "    right = []\n",
        "    for i in range(mid, len(data)):\n",
        "        right.append(data[i])\n",
        "\n",
        "    left = top_down_merge_sort(left)\n",
        "    right = top_down_merge_sort(right)\n",
        "\n",
        "    return merge(left, right)\n",
        "\n",
        "\n",
        "def merge(left, right):\n",
        "    result = []\n",
        "    i = j = 0\n",
        "\n",
        "    while i < len(left) and j < len(right):\n",
        "        if left[i] < right[j]:\n",
        "            result.append(left[i])\n",
        "            i += 1\n",
        "        else:\n",
        "            result.append(right[j])\n",
        "            j += 1\n",
        "\n",
        "    for k in range(i, len(left)):\n",
        "        result.append(left[k])\n",
        "\n",
        "    for k in range(j, len(right)):\n",
        "        result.append(right[k])\n",
        "\n",
        "    return result\n"
      ],
      "metadata": {
        "id": "70U-CwIHD0qL"
      },
      "execution_count": 90,
      "outputs": []
    },
    {
      "cell_type": "code",
      "source": [
        "def test_merge(\n",
        "    test_num: int,\n",
        "    input_size: int\n",
        "):\n",
        "  results = {\n",
        "      \"basic_time\" : [],\n",
        "      \"top_down_time\" : []\n",
        "  }\n",
        "  for test in tqdm(range(test_num)):\n",
        "    print(f\"Test: {test}\\n--------\")\n",
        "\n",
        "    # 1. Create an array for both merge sorts\n",
        "    array = list(range(1, input_size+1))\n",
        "    basic_array = array.copy()\n",
        "    random.shuffle(basic_array)\n",
        "    top_down_array = array.copy()\n",
        "    random.shuffle(top_down_array)\n",
        "    # print(f\"Basic Array : {basic_array} \\nTop-Down Array : {top_down_array}\")\n",
        "\n",
        "    # 2. Basic Merge Sort\n",
        "    basic_start = time.time()\n",
        "    basic_sorted = basic_merge_sort(basic_array)\n",
        "    basic_end = time.time()\n",
        "    basic_duration = basic_end - basic_start\n",
        "\n",
        "    # 3. Top-Down Merge Sort\n",
        "    top_down_start = time.time()\n",
        "    top_down_sorted = top_down_merge_sort(top_down_array)\n",
        "    top_down_end = time.time()\n",
        "    top_down_duration = top_down_end - top_down_start\n",
        "\n",
        "    # 4. Print what's happening\n",
        "    print(f\"Basic Merge Sort Duration : {basic_duration:.4f} || Top-Down Merge Sort Duration : {top_down_duration:.4f}\")\n",
        "\n",
        "    # 5. Update Dictionary\n",
        "    results[\"basic_time\"].append(basic_duration)\n",
        "    results[\"top_down_time\"].append(top_down_duration)\n",
        "\n",
        "  # 6. Return results\n",
        "  print(f\"First 10 values: {basic_sorted[:10]} || Last 10 values: {basic_sorted[-10:]}\")\n",
        "  return results\n",
        "\n",
        "\n"
      ],
      "metadata": {
        "id": "I3f0RuSrEevM"
      },
      "execution_count": 91,
      "outputs": []
    },
    {
      "cell_type": "code",
      "source": [
        "time_results = test_merge(\n",
        "    10,\n",
        "    1000\n",
        ")"
      ],
      "metadata": {
        "colab": {
          "base_uri": "https://localhost:8080/",
          "height": 587,
          "referenced_widgets": [
            "72ca0996c27440b592037dff1c3cfde9",
            "5882368982d64bec859574af6c9e5e0e",
            "7c987e85c7d040ff8d99d5f3ce51141c",
            "2ba9e88c6af14be382ba4edfe50228ac",
            "240e849ed24f409c9107febcf4ba2519",
            "6876686a0fc94db4bfe627508a0c78e9",
            "f3eb9541dcb24a81a47a7f606b55e8a0",
            "5256a1ebc6f24a51adae1da63c7809f0",
            "87097edaeac1416284c91a3c405300a4",
            "b092d5d39a82498db9106929adb7d975",
            "f6b12e8623034e87a5df97a200029b35"
          ]
        },
        "id": "FmRZkvq6ICRu",
        "outputId": "916f7bc8-acdb-44b7-eb5d-5f8da74693c7"
      },
      "execution_count": 92,
      "outputs": [
        {
          "output_type": "display_data",
          "data": {
            "text/plain": [
              "  0%|          | 0/10 [00:00<?, ?it/s]"
            ],
            "application/vnd.jupyter.widget-view+json": {
              "version_major": 2,
              "version_minor": 0,
              "model_id": "72ca0996c27440b592037dff1c3cfde9"
            }
          },
          "metadata": {}
        },
        {
          "output_type": "stream",
          "name": "stdout",
          "text": [
            "Test: 0\n",
            "--------\n",
            "Basic Merge Sort Duration : 0.0089 || Top-Down Merge Sort Duration : 0.0077\n",
            "Test: 1\n",
            "--------\n",
            "Basic Merge Sort Duration : 0.0078 || Top-Down Merge Sort Duration : 0.0077\n",
            "Test: 2\n",
            "--------\n",
            "Basic Merge Sort Duration : 0.0047 || Top-Down Merge Sort Duration : 0.0046\n",
            "Test: 3\n",
            "--------\n",
            "Basic Merge Sort Duration : 0.0045 || Top-Down Merge Sort Duration : 0.0054\n",
            "Test: 4\n",
            "--------\n",
            "Basic Merge Sort Duration : 0.0058 || Top-Down Merge Sort Duration : 0.0046\n",
            "Test: 5\n",
            "--------\n",
            "Basic Merge Sort Duration : 0.0049 || Top-Down Merge Sort Duration : 0.0045\n",
            "Test: 6\n",
            "--------\n",
            "Basic Merge Sort Duration : 0.0054 || Top-Down Merge Sort Duration : 0.0086\n",
            "Test: 7\n",
            "--------\n",
            "Basic Merge Sort Duration : 0.0048 || Top-Down Merge Sort Duration : 0.0045\n",
            "Test: 8\n",
            "--------\n",
            "Basic Merge Sort Duration : 0.0054 || Top-Down Merge Sort Duration : 0.0045\n",
            "Test: 9\n",
            "--------\n",
            "Basic Merge Sort Duration : 0.0045 || Top-Down Merge Sort Duration : 0.0048\n",
            "First 10 values: [1, 2, 3, 4, 5, 6, 7, 8, 9, 10] || Last 10 values: [991, 992, 993, 994, 995, 996, 997, 998, 999, 1000]\n"
          ]
        }
      ]
    },
    {
      "cell_type": "code",
      "source": [
        "time_results.keys()"
      ],
      "metadata": {
        "id": "OSQECmDVH6d-",
        "colab": {
          "base_uri": "https://localhost:8080/"
        },
        "outputId": "eb38c94c-5dad-4849-fa74-48c0e7cb8b76"
      },
      "execution_count": 93,
      "outputs": [
        {
          "output_type": "execute_result",
          "data": {
            "text/plain": [
              "dict_keys(['basic_time', 'top_down_time'])"
            ]
          },
          "metadata": {},
          "execution_count": 93
        }
      ]
    },
    {
      "cell_type": "code",
      "source": [
        "def plot_durations(\n",
        "    results: dict[str, list[float]]\n",
        "):\n",
        "  \"\"\"Plot the durations of Basic and Top-Down Merge Sorts\"\"\"\n",
        "  # Get the values from the dictionary\n",
        "  basic_time = results[\"basic_time\"]\n",
        "  top_down_time = results[\"top_down_time\"]\n",
        "\n",
        "  # Get the number of tests ran\n",
        "  test_num = range(len(basic_time))\n",
        "\n",
        "  # Set the figure size\n",
        "  plt.figure(figsize=(8, 6))\n",
        "\n",
        "  # Plot the durations\n",
        "  plt.plot(test_num, basic_time, label = \"Basic Merge Sort Time\")\n",
        "  plt.plot(test_num, top_down_time, label = \"Top-Down Merge Sort Time\")\n",
        "  plt.title(\"Basic and Top-Down Merge Sorts Durations\")\n",
        "  plt.xlabel(\"Number of Tests\")\n",
        "  plt.legend()"
      ],
      "metadata": {
        "id": "4p8UNLMvNmyg"
      },
      "execution_count": 96,
      "outputs": []
    },
    {
      "cell_type": "code",
      "source": [
        "plot_durations(time_results)"
      ],
      "metadata": {
        "colab": {
          "base_uri": "https://localhost:8080/",
          "height": 564
        },
        "id": "zV5-9fsPPnoK",
        "outputId": "a5d552c1-451d-4650-e309-5ab88e93325f"
      },
      "execution_count": 97,
      "outputs": [
        {
          "output_type": "display_data",
          "data": {
            "text/plain": [
              "<Figure size 800x600 with 1 Axes>"
            ],
            "image/png": "[encoded data removed]"
          },
          "metadata": {}
        }
      ]
    }
  ]
}