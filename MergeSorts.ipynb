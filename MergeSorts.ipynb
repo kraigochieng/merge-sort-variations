{
  "nbformat": 4,
  "nbformat_minor": 0,
  "metadata": {
    "colab": {
      "provenance": [],
      "authorship_tag": "ABX9TyOB0phs69EDfRBDfMU5GObA",
      "include_colab_link": true
    },
    "kernelspec": {
      "name": "python3",
      "display_name": "Python 3"
    },
    "language_info": {
      "name": "python"
    },
    "widgets": {
      "application/vnd.jupyter.widget-state+json": {
        "56c43e159ae44fd6b08e43df154ccca5": {
          "model_module": "@jupyter-widgets/controls",
          "model_name": "HBoxModel",
          "model_module_version": "1.5.0",
          "state": {
            "_dom_classes": [],
            "_model_module": "@jupyter-widgets/controls",
            "_model_module_version": "1.5.0",
            "_model_name": "HBoxModel",
            "_view_count": null,
            "_view_module": "@jupyter-widgets/controls",
            "_view_module_version": "1.5.0",
            "_view_name": "HBoxView",
            "box_style": "",
            "children": [
              "IPY_MODEL_e6ca0ee6c42f497cae91e086d41f2e64",
              "IPY_MODEL_d61a3c1464524c8d9e343a40379325f9",
              "IPY_MODEL_22d12bc5edf14cc6815917522c00acca"
            ],
            "layout": "IPY_MODEL_b1c98c62b6ee42bdb023993148f20d79"
          }
        },
        "e6ca0ee6c42f497cae91e086d41f2e64": {
          "model_module": "@jupyter-widgets/controls",
          "model_name": "HTMLModel",
          "model_module_version": "1.5.0",
          "state": {
            "_dom_classes": [],
            "_model_module": "@jupyter-widgets/controls",
            "_model_module_version": "1.5.0",
            "_model_name": "HTMLModel",
            "_view_count": null,
            "_view_module": "@jupyter-widgets/controls",
            "_view_module_version": "1.5.0",
            "_view_name": "HTMLView",
            "description": "",
            "description_tooltip": null,
            "layout": "IPY_MODEL_8cad3f9c2c694d6ab96ab1afff84b0f2",
            "placeholder": "​",
            "style": "IPY_MODEL_dee9fd5fdfff474e8270e55673faf1d7",
            "value": "100%"
          }
        },
        "d61a3c1464524c8d9e343a40379325f9": {
          "model_module": "@jupyter-widgets/controls",
          "model_name": "FloatProgressModel",
          "model_module_version": "1.5.0",
          "state": {
            "_dom_classes": [],
            "_model_module": "@jupyter-widgets/controls",
            "_model_module_version": "1.5.0",
            "_model_name": "FloatProgressModel",
            "_view_count": null,
            "_view_module": "@jupyter-widgets/controls",
            "_view_module_version": "1.5.0",
            "_view_name": "ProgressView",
            "bar_style": "success",
            "description": "",
            "description_tooltip": null,
            "layout": "IPY_MODEL_c2daa9f2089048b89016c4ab63afd489",
            "max": 10,
            "min": 0,
            "orientation": "horizontal",
            "style": "IPY_MODEL_599ee9aa84f04afbafcf920060d70973",
            "value": 10
          }
        },
        "22d12bc5edf14cc6815917522c00acca": {
          "model_module": "@jupyter-widgets/controls",
          "model_name": "HTMLModel",
          "model_module_version": "1.5.0",
          "state": {
            "_dom_classes": [],
            "_model_module": "@jupyter-widgets/controls",
            "_model_module_version": "1.5.0",
            "_model_name": "HTMLModel",
            "_view_count": null,
            "_view_module": "@jupyter-widgets/controls",
            "_view_module_version": "1.5.0",
            "_view_name": "HTMLView",
            "description": "",
            "description_tooltip": null,
            "layout": "IPY_MODEL_50d84c5e328c4301b270dd2dba54c703",
            "placeholder": "​",
            "style": "IPY_MODEL_3a5fb19d7f1d4b59bb82be8e738322ae",
            "value": " 10/10 [00:00&lt;00:00, 48.20it/s]"
          }
        },
        "b1c98c62b6ee42bdb023993148f20d79": {
          "model_module": "@jupyter-widgets/base",
          "model_name": "LayoutModel",
          "model_module_version": "1.2.0",
          "state": {
            "_model_module": "@jupyter-widgets/base",
            "_model_module_version": "1.2.0",
            "_model_name": "LayoutModel",
            "_view_count": null,
            "_view_module": "@jupyter-widgets/base",
            "_view_module_version": "1.2.0",
            "_view_name": "LayoutView",
            "align_content": null,
            "align_items": null,
            "align_self": null,
            "border": null,
            "bottom": null,
            "display": null,
            "flex": null,
            "flex_flow": null,
            "grid_area": null,
            "grid_auto_columns": null,
            "grid_auto_flow": null,
            "grid_auto_rows": null,
            "grid_column": null,
            "grid_gap": null,
            "grid_row": null,
            "grid_template_areas": null,
            "grid_template_columns": null,
            "grid_template_rows": null,
            "height": null,
            "justify_content": null,
            "justify_items": null,
            "left": null,
            "margin": null,
            "max_height": null,
            "max_width": null,
            "min_height": null,
            "min_width": null,
            "object_fit": null,
            "object_position": null,
            "order": null,
            "overflow": null,
            "overflow_x": null,
            "overflow_y": null,
            "padding": null,
            "right": null,
            "top": null,
            "visibility": null,
            "width": null
          }
        },
        "8cad3f9c2c694d6ab96ab1afff84b0f2": {
          "model_module": "@jupyter-widgets/base",
          "model_name": "LayoutModel",
          "model_module_version": "1.2.0",
          "state": {
            "_model_module": "@jupyter-widgets/base",
            "_model_module_version": "1.2.0",
            "_model_name": "LayoutModel",
            "_view_count": null,
            "_view_module": "@jupyter-widgets/base",
            "_view_module_version": "1.2.0",
            "_view_name": "LayoutView",
            "align_content": null,
            "align_items": null,
            "align_self": null,
            "border": null,
            "bottom": null,
            "display": null,
            "flex": null,
            "flex_flow": null,
            "grid_area": null,
            "grid_auto_columns": null,
            "grid_auto_flow": null,
            "grid_auto_rows": null,
            "grid_column": null,
            "grid_gap": null,
            "grid_row": null,
            "grid_template_areas": null,
            "grid_template_columns": null,
            "grid_template_rows": null,
            "height": null,
            "justify_content": null,
            "justify_items": null,
            "left": null,
            "margin": null,
            "max_height": null,
            "max_width": null,
            "min_height": null,
            "min_width": null,
            "object_fit": null,
            "object_position": null,
            "order": null,
            "overflow": null,
            "overflow_x": null,
            "overflow_y": null,
            "padding": null,
            "right": null,
            "top": null,
            "visibility": null,
            "width": null
          }
        },
        "dee9fd5fdfff474e8270e55673faf1d7": {
          "model_module": "@jupyter-widgets/controls",
          "model_name": "DescriptionStyleModel",
          "model_module_version": "1.5.0",
          "state": {
            "_model_module": "@jupyter-widgets/controls",
            "_model_module_version": "1.5.0",
            "_model_name": "DescriptionStyleModel",
            "_view_count": null,
            "_view_module": "@jupyter-widgets/base",
            "_view_module_version": "1.2.0",
            "_view_name": "StyleView",
            "description_width": ""
          }
        },
        "c2daa9f2089048b89016c4ab63afd489": {
          "model_module": "@jupyter-widgets/base",
          "model_name": "LayoutModel",
          "model_module_version": "1.2.0",
          "state": {
            "_model_module": "@jupyter-widgets/base",
            "_model_module_version": "1.2.0",
            "_model_name": "LayoutModel",
            "_view_count": null,
            "_view_module": "@jupyter-widgets/base",
            "_view_module_version": "1.2.0",
            "_view_name": "LayoutView",
            "align_content": null,
            "align_items": null,
            "align_self": null,
            "border": null,
            "bottom": null,
            "display": null,
            "flex": null,
            "flex_flow": null,
            "grid_area": null,
            "grid_auto_columns": null,
            "grid_auto_flow": null,
            "grid_auto_rows": null,
            "grid_column": null,
            "grid_gap": null,
            "grid_row": null,
            "grid_template_areas": null,
            "grid_template_columns": null,
            "grid_template_rows": null,
            "height": null,
            "justify_content": null,
            "justify_items": null,
            "left": null,
            "margin": null,
            "max_height": null,
            "max_width": null,
            "min_height": null,
            "min_width": null,
            "object_fit": null,
            "object_position": null,
            "order": null,
            "overflow": null,
            "overflow_x": null,
            "overflow_y": null,
            "padding": null,
            "right": null,
            "top": null,
            "visibility": null,
            "width": null
          }
        },
        "599ee9aa84f04afbafcf920060d70973": {
          "model_module": "@jupyter-widgets/controls",
          "model_name": "ProgressStyleModel",
          "model_module_version": "1.5.0",
          "state": {
            "_model_module": "@jupyter-widgets/controls",
            "_model_module_version": "1.5.0",
            "_model_name": "ProgressStyleModel",
            "_view_count": null,
            "_view_module": "@jupyter-widgets/base",
            "_view_module_version": "1.2.0",
            "_view_name": "StyleView",
            "bar_color": null,
            "description_width": ""
          }
        },
        "50d84c5e328c4301b270dd2dba54c703": {
          "model_module": "@jupyter-widgets/base",
          "model_name": "LayoutModel",
          "model_module_version": "1.2.0",
          "state": {
            "_model_module": "@jupyter-widgets/base",
            "_model_module_version": "1.2.0",
            "_model_name": "LayoutModel",
            "_view_count": null,
            "_view_module": "@jupyter-widgets/base",
            "_view_module_version": "1.2.0",
            "_view_name": "LayoutView",
            "align_content": null,
            "align_items": null,
            "align_self": null,
            "border": null,
            "bottom": null,
            "display": null,
            "flex": null,
            "flex_flow": null,
            "grid_area": null,
            "grid_auto_columns": null,
            "grid_auto_flow": null,
            "grid_auto_rows": null,
            "grid_column": null,
            "grid_gap": null,
            "grid_row": null,
            "grid_template_areas": null,
            "grid_template_columns": null,
            "grid_template_rows": null,
            "height": null,
            "justify_content": null,
            "justify_items": null,
            "left": null,
            "margin": null,
            "max_height": null,
            "max_width": null,
            "min_height": null,
            "min_width": null,
            "object_fit": null,
            "object_position": null,
            "order": null,
            "overflow": null,
            "overflow_x": null,
            "overflow_y": null,
            "padding": null,
            "right": null,
            "top": null,
            "visibility": null,
            "width": null
          }
        },
        "3a5fb19d7f1d4b59bb82be8e738322ae": {
          "model_module": "@jupyter-widgets/controls",
          "model_name": "DescriptionStyleModel",
          "model_module_version": "1.5.0",
          "state": {
            "_model_module": "@jupyter-widgets/controls",
            "_model_module_version": "1.5.0",
            "_model_name": "DescriptionStyleModel",
            "_view_count": null,
            "_view_module": "@jupyter-widgets/base",
            "_view_module_version": "1.2.0",
            "_view_name": "StyleView",
            "description_width": ""
          }
        }
      }
    }
  },
  "cells": [
    {
      "cell_type": "markdown",
      "metadata": {
        "id": "view-in-github",
        "colab_type": "text"
      },
      "source": [
        "<a href=\"https://colab.research.google.com/github/kraigochieng/merge-sort-variations/blob/main/MergeSorts.ipynb\" target=\"_parent\"><img src=\"https://colab.research.google.com/assets/colab-badge.svg\" alt=\"Open In Colab\"/></a>"
      ]
    },
    {
      "cell_type": "code",
      "source": [
        "import random\n",
        "import time\n",
        "from tqdm.auto import tqdm\n",
        "import numpy as np\n",
        "import matplotlib.pyplot as plt"
      ],
      "metadata": {
        "id": "AXTHtTBzOp1h"
      },
      "execution_count": 80,
      "outputs": []
    },
    {
      "cell_type": "code",
      "execution_count": 81,
      "metadata": {
        "id": "Y5wpCwRsBIY9"
      },
      "outputs": [],
      "source": [
        "def merge(left, right):\n",
        "    result = []\n",
        "    i, j = 0, 0\n",
        "    while i < len(left) and j < len(right):\n",
        "        if left[i] < right[j]:\n",
        "            result.append(left[i])\n",
        "            i += 1\n",
        "        else:\n",
        "            result.append(right[j])\n",
        "            j += 1\n",
        "    # Append remaining elements from left and right, if any\n",
        "    for k in range(i, len(left)):\n",
        "        result.append(left[k])\n",
        "\n",
        "    for k in range(j, len(right)):\n",
        "        result.append(right[k])\n",
        "\n",
        "    return result\n",
        "\n",
        "\n",
        "def basic_merge_sort(array):\n",
        "    if len(array) <= 1:\n",
        "        return array\n",
        "\n",
        "    mid = len(array) // 2\n",
        "\n",
        "    left_array = []\n",
        "    for i in range(mid):\n",
        "        left_array.append(array[i])\n",
        "\n",
        "    right_array = []\n",
        "    for i in range(mid, len(array)):\n",
        "        right_array.append(array[i])\n",
        "\n",
        "    left = basic_merge_sort(left_array)\n",
        "    right = basic_merge_sort(right_array)\n",
        "\n",
        "    return merge(left, right)\n"
      ]
    },
    {
      "cell_type": "code",
      "source": [
        "def top_down_merge_sort(data):\n",
        "    if len(data) <= 1:\n",
        "        return data\n",
        "\n",
        "    mid = len(data) // 2\n",
        "\n",
        "    left = []\n",
        "    for i in range(mid):\n",
        "        left.append(data[i])\n",
        "\n",
        "    right = []\n",
        "    for i in range(mid, len(data)):\n",
        "        right.append(data[i])\n",
        "\n",
        "    left = top_down_merge_sort(left)\n",
        "    right = top_down_merge_sort(right)\n",
        "\n",
        "    return merge(left, right)\n",
        "\n",
        "\n",
        "def merge(left, right):\n",
        "    result = []\n",
        "    i = j = 0\n",
        "\n",
        "    while i < len(left) and j < len(right):\n",
        "        if left[i] < right[j]:\n",
        "            result.append(left[i])\n",
        "            i += 1\n",
        "        else:\n",
        "            result.append(right[j])\n",
        "            j += 1\n",
        "\n",
        "    for k in range(i, len(left)):\n",
        "        result.append(left[k])\n",
        "\n",
        "    for k in range(j, len(right)):\n",
        "        result.append(right[k])\n",
        "\n",
        "    return result\n"
      ],
      "metadata": {
        "id": "70U-CwIHD0qL"
      },
      "execution_count": 82,
      "outputs": []
    },
    {
      "cell_type": "code",
      "source": [
        "def test_merge(\n",
        "    test_num: int,\n",
        "    input_size: int\n",
        "):\n",
        "  results = {\n",
        "      \"basic_time\" : [],\n",
        "      \"top_down_time\" : []\n",
        "  }\n",
        "  for test in tqdm(range(test_num)):\n",
        "    print(f\"Test: {test}\\n--------\")\n",
        "\n",
        "    # 1. Create an array for both merge sorts\n",
        "    array = list(range(1, input_size+1))\n",
        "    basic_array = array.copy()\n",
        "    random.shuffle(basic_array)\n",
        "    top_down_array = array.copy()\n",
        "    random.shuffle(top_down_array)\n",
        "    # print(f\"Basic Array : {basic_array} \\nTop-Down Array : {top_down_array}\")\n",
        "\n",
        "    # 2. Basic Merge Sort\n",
        "    basic_start = time.time()\n",
        "    basic_sorted = basic_merge_sort(basic_array)\n",
        "    basic_end = time.time()\n",
        "    basic_duration = basic_end - basic_start\n",
        "\n",
        "    # 3. Top-Down Merge Sort\n",
        "    top_down_start = time.time()\n",
        "    top_down_sorted = top_down_merge_sort(top_down_array)\n",
        "    top_down_end = time.time()\n",
        "    top_down_duration = top_down_end - top_down_start\n",
        "\n",
        "    # 4. Print what's happening\n",
        "    print(f\"Basic Merge Sort Duration : {basic_duration:.4f} || Top-Down Merge Sort Duration : {top_down_duration:.4f}\")\n",
        "\n",
        "    # 5. Update Dictionary\n",
        "    results[\"basic_time\"].append(basic_duration)\n",
        "    results[\"top_down_time\"].append(top_down_duration)\n",
        "\n",
        "  # 6. Return results\n",
        "  return results\n",
        "\n",
        "\n"
      ],
      "metadata": {
        "id": "I3f0RuSrEevM"
      },
      "execution_count": 83,
      "outputs": []
    },
    {
      "cell_type": "code",
      "source": [
        "time_results = test_merge(\n",
        "    10,\n",
        "    1000\n",
        ")"
      ],
      "metadata": {
        "colab": {
          "base_uri": "https://localhost:8080/",
          "height": 570,
          "referenced_widgets": [
            "56c43e159ae44fd6b08e43df154ccca5",
            "e6ca0ee6c42f497cae91e086d41f2e64",
            "d61a3c1464524c8d9e343a40379325f9",
            "22d12bc5edf14cc6815917522c00acca",
            "b1c98c62b6ee42bdb023993148f20d79",
            "8cad3f9c2c694d6ab96ab1afff84b0f2",
            "dee9fd5fdfff474e8270e55673faf1d7",
            "c2daa9f2089048b89016c4ab63afd489",
            "599ee9aa84f04afbafcf920060d70973",
            "50d84c5e328c4301b270dd2dba54c703",
            "3a5fb19d7f1d4b59bb82be8e738322ae"
          ]
        },
        "id": "FmRZkvq6ICRu",
        "outputId": "e1275648-ddd0-453b-8eb6-99df66c490d3"
      },
      "execution_count": 84,
      "outputs": [
        {
          "output_type": "display_data",
          "data": {
            "text/plain": [
              "  0%|          | 0/10 [00:00<?, ?it/s]"
            ],
            "application/vnd.jupyter.widget-view+json": {
              "version_major": 2,
              "version_minor": 0,
              "model_id": "56c43e159ae44fd6b08e43df154ccca5"
            }
          },
          "metadata": {}
        },
        {
          "output_type": "stream",
          "name": "stdout",
          "text": [
            "Test: 0\n",
            "--------\n",
            "Basic Merge Sort Duration : 0.0117 || Top-Down Merge Sort Duration : 0.0088\n",
            "Test: 1\n",
            "--------\n",
            "Basic Merge Sort Duration : 0.0091 || Top-Down Merge Sort Duration : 0.0046\n",
            "Test: 2\n",
            "--------\n",
            "Basic Merge Sort Duration : 0.0063 || Top-Down Merge Sort Duration : 0.0046\n",
            "Test: 3\n",
            "--------\n",
            "Basic Merge Sort Duration : 0.0045 || Top-Down Merge Sort Duration : 0.0047\n",
            "Test: 4\n",
            "--------\n",
            "Basic Merge Sort Duration : 0.0061 || Top-Down Merge Sort Duration : 0.0047\n",
            "Test: 5\n",
            "--------\n",
            "Basic Merge Sort Duration : 0.0062 || Top-Down Merge Sort Duration : 0.0050\n",
            "Test: 6\n",
            "--------\n",
            "Basic Merge Sort Duration : 0.0066 || Top-Down Merge Sort Duration : 0.0048\n",
            "Test: 7\n",
            "--------\n",
            "Basic Merge Sort Duration : 0.0046 || Top-Down Merge Sort Duration : 0.0045\n",
            "Test: 8\n",
            "--------\n",
            "Basic Merge Sort Duration : 0.0045 || Top-Down Merge Sort Duration : 0.0045\n",
            "Test: 9\n",
            "--------\n",
            "Basic Merge Sort Duration : 0.0054 || Top-Down Merge Sort Duration : 0.0045\n"
          ]
        }
      ]
    },
    {
      "cell_type": "code",
      "source": [
        "time_results.keys()"
      ],
      "metadata": {
        "id": "OSQECmDVH6d-",
        "colab": {
          "base_uri": "https://localhost:8080/"
        },
        "outputId": "dbad77c5-6ea6-4151-c783-b8e4832957c6"
      },
      "execution_count": 85,
      "outputs": [
        {
          "output_type": "execute_result",
          "data": {
            "text/plain": [
              "dict_keys(['basic_time', 'top_down_time'])"
            ]
          },
          "metadata": {},
          "execution_count": 85
        }
      ]
    },
    {
      "cell_type": "code",
      "source": [
        "def plot_durations(\n",
        "    results: dict[str, list[float]]\n",
        "):\n",
        "  \"\"\"Plot the durations of Basic and Top-Down Merge Sorts\"\"\"\n",
        "  # Get the values from the dictionary\n",
        "  basic_time = results[\"basic_time\"]\n",
        "  top_down_time = results[\"top_down_time\"]\n",
        "\n",
        "  # Get the number of tests ran\n",
        "  test_num = range(len(basic_time))\n",
        "\n",
        "  # Set the figure size\n",
        "  plt.figure(figsize=(8, 6))\n",
        "\n",
        "  # Plot the durations\n",
        "  plt.plot(test_num, basic_time, label = \"Basic Merge Sort Time\")\n",
        "  plt.plot(test_num, top_down_time, label = \"Top-Down Merge Sort Time\")\n",
        "  plt.title(\"Basic and Top-Down Merge Sorts Durations\")\n",
        "  plt.xlabel(\"Number of Tests\")\n",
        "  plt.legend()"
      ],
      "metadata": {
        "id": "4p8UNLMvNmyg"
      },
      "execution_count": 86,
      "outputs": []
    },
    {
      "cell_type": "code",
      "source": [
        "plot_durations(time_results)"
      ],
      "metadata": {
        "colab": {
          "base_uri": "https://localhost:8080/",
          "height": 564
        },
        "id": "zV5-9fsPPnoK",
        "outputId": "c6b0e2ea-9035-404e-ff0e-9fe7ed1709fc"
      },
      "execution_count": 87,
      "outputs": [
        {
          "output_type": "display_data",
          "data": {
            "text/plain": [
              "<Figure size 800x600 with 1 Axes>"
            ],
            "image/png": "[encoded data removed]"
          },
          "metadata": {}
        }
      ]
    }
  ]
}