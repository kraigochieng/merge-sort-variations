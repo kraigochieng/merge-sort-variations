{
 "cells": [
  {
   "cell_type": "markdown",
   "metadata": {
    "colab_type": "text",
    "id": "view-in-github"
   },
   "source": [
    "<a href=\"https://colab.research.google.com/github/kraigochieng/merge-sort-variations/blob/main/MergeSorts.ipynb\" target=\"_parent\"><img src=\"https://colab.research.google.com/assets/colab-badge.svg\" alt=\"Open In Colab\"/></a>"
   ]
  },
  {
   "cell_type": "code",
   "execution_count": 3,
   "metadata": {
    "id": "AXTHtTBzOp1h"
   },
   "outputs": [],
   "source": [
    "import random\n",
    "import time\n",
    "from tqdm.auto import tqdm\n",
    "import numpy as np\n",
    "import matplotlib.pyplot as plt\n",
    "import pandas as pd"
   ]
  },
  {
   "cell_type": "code",
   "execution_count": 9,
   "metadata": {
    "id": "Y5wpCwRsBIY9"
   },
   "outputs": [],
   "source": [
    "def bottom_up_merge(array, left, mid, right):\n",
    "    temp = []\n",
    "    i = left\n",
    "    j = mid + 1\n",
    "\n",
    "    while i <= mid and j <= right:\n",
    "        if array[i] < array[j]:\n",
    "            temp.append(array[i])\n",
    "            i += 1\n",
    "        else:\n",
    "            temp.append(array[j])\n",
    "            j += 1\n",
    "\n",
    "    while i <= mid:\n",
    "        temp.append(array[i])\n",
    "        i += 1\n",
    "\n",
    "    while j <= right:\n",
    "        temp.append(array[j])\n",
    "        j += 1\n",
    "\n",
    "    for i in range(len(temp)):\n",
    "        array[left + i] = temp[i]\n",
    "\n",
    "\n",
    "def bottom_up_merge_sort(array):\n",
    "    n = len(array)\n",
    "    size = 1\n",
    "\n",
    "    while size < n:\n",
    "        left = 0\n",
    "        while left < n - 1:\n",
    "            mid = min(left + size - 1, n - 1)\n",
    "            right = min(left + 2 * size - 1, n - 1)\n",
    "            bottom_up_merge(array, left, mid, right)\n",
    "            left += 2 * size\n",
    "\n",
    "        size *= 2\n",
    "\n",
    "    return array\n",
    "\n"
   ]
  },
  {
   "cell_type": "code",
   "execution_count": 10,
   "metadata": {
    "id": "70U-CwIHD0qL"
   },
   "outputs": [],
   "source": [
    "def top_down_merge(left, right):\n",
    "    result = []\n",
    "    i = j = 0\n",
    "\n",
    "    while i < len(left) and j < len(right):\n",
    "        if left[i] < right[j]:\n",
    "            result.append(left[i])\n",
    "            i += 1\n",
    "        else:\n",
    "            result.append(right[j])\n",
    "            j += 1\n",
    "\n",
    "    for k in range(i, len(left)):\n",
    "        result.append(left[k])\n",
    "\n",
    "    for k in range(j, len(right)):\n",
    "        result.append(right[k])\n",
    "\n",
    "    return result\n",
    "\n",
    "def top_down_merge_sort(data):\n",
    "    if len(data) <= 1:\n",
    "        return data\n",
    "\n",
    "    mid = len(data) // 2\n",
    "\n",
    "    left = []\n",
    "    for i in range(mid):\n",
    "        left.append(data[i])\n",
    "\n",
    "    right = []\n",
    "    for i in range(mid, len(data)):\n",
    "        right.append(data[i])\n",
    "\n",
    "    left = top_down_merge_sort(left)\n",
    "    right = top_down_merge_sort(right)\n",
    "\n",
    "    return top_down_merge(left, right)\n",
    "\n",
    "\n",
    "\n"
   ]
  },
  {
   "cell_type": "code",
   "execution_count": 22,
   "metadata": {
    "id": "I3f0RuSrEevM"
   },
   "outputs": [],
   "source": [
    "def test_merge(\n",
    "    test_num: int,\n",
    "    input_size: int\n",
    "):\n",
    "  results = {\n",
    "      \"Avg_bottom_up_time\" : None,\n",
    "      \"Avg_top_down_time\" : None,\n",
    "      \"Input_size\" : input_size\n",
    "  }\n",
    "\n",
    "  total_bottom_up_time = 0\n",
    "  total_top_down_time = 0\n",
    "\n",
    "  for test in range(test_num):\n",
    "    # 1. Create an array for both merge sorts\n",
    "    array = list(range(1, input_size+1))\n",
    "    bottom_up_array = array.copy()\n",
    "    random.shuffle(bottom_up_array)\n",
    "    top_down_array = array.copy()\n",
    "    random.shuffle(top_down_array)\n",
    "    # print(f\"Basic Array : {bottom_up_array} \\nTop-Down Array : {top_down_array}\")\n",
    "\n",
    "    # 2. Basic Merge Sort\n",
    "    bottom_up_start = time.time()\n",
    "    bottom_up_sorted = bottom_up_merge_sort(bottom_up_array)\n",
    "    bottom_up_end = time.time()\n",
    "    bottom_up_duration = bottom_up_end - bottom_up_start\n",
    "\n",
    "    # 3. Top-Down Merge Sort\n",
    "    top_down_start = time.time()\n",
    "    top_down_sorted = top_down_merge_sort(top_down_array)\n",
    "    top_down_end = time.time()\n",
    "    top_down_duration = top_down_end - top_down_start\n",
    "\n",
    "    # 4. Print what's happening\n",
    "    print(f\"Bottom-Up Sort Duration : {bottom_up_duration:.4f} || Top-Down Merge Sort Duration : {top_down_duration:.4f}\")\n",
    "\n",
    "    # 5. Update Dictionary\n",
    "    total_bottom_up_time += bottom_up_duration\n",
    "    total_top_down_time += top_down_duration\n",
    "\n",
    "  results[\"bottom_up_time_avg\"] = total_bottom_up_time / test_num\n",
    "  results[\"Avg_top_down_time\"] = total_top_down_time / test_num\n",
    "\n",
    "  # 6. Return results\n",
    "  # print(f\"First 10 values: {bottom_up_sorted[:10]} || Last 10 values: {bottom_up_sorted[-10:]}\")\n",
    "  return results\n",
    "\n",
    "\n"
   ]
  },
  {
   "cell_type": "code",
   "execution_count": 18,
   "metadata": {
    "id": "iB6uHdpBX-7D"
   },
   "outputs": [],
   "source": [
    "def input_size_init(\n",
    "    input_size: int,\n",
    "    tests_per_input_size: int\n",
    "):\n",
    "  # 1. Input the test sizes\n",
    "  sizes = [input_size, input_size * 10, input_size * 50, input_size * 100, input_size * 200]\n",
    "\n",
    "  # 2. Initialize a dictionary to store the averages and their corresponding input_size\n",
    "  new_results = {\n",
    "      \"bottom_up_time_avg\" : [],\n",
    "      \"top_down_time_avg\" : [],\n",
    "      \"input_size\" : []\n",
    "  }\n",
    "\n",
    "  # 3. Get the averages per input size\n",
    "  for num in tqdm(range(len(sizes))):\n",
    "    print(f\"Test: {num + 1} | Input Size: {sizes[num]}\\n--------\")\n",
    "    time_results = test_merge(\n",
    "        test_num = tests_per_input_size,\n",
    "        input_size = sizes[num]\n",
    "    )\n",
    "    new_results[\"bottom_up_time_avg\"].append(time_results[\"bottom_up_time_avg\"])\n",
    "    new_results[\"top_down_time_avg\"].append(time_results[\"Avg_top_down_time\"])\n",
    "    new_results[\"input_size\"].append(time_results[\"Input_size\"])\n",
    "    print(\"\\n\")\n",
    "\n",
    "  return new_results\n"
   ]
  },
  {
   "cell_type": "code",
   "execution_count": 24,
   "metadata": {
    "colab": {
     "base_uri": "https://localhost:8080/",
     "height": 1000,
     "referenced_widgets": [
      "1d54b0753c4849d6b2193cd99493b10b",
      "cd8db52836a24bbb8a3ea30ba7451df3",
      "57dac9a9c83d41b1af0dd465ae34cb98",
      "ce28a3c9e14545dbb380dc845c9895b5",
      "97bc5166f8b34fb4871897dbec637685",
      "43cb74c0ece142f3bd07529093e22c33",
      "9c8e738d0e784333b2cfc713801795c8",
      "6bbdf47fb44b4c7ea85c1ace2db1c6dc",
      "8ba1c5c3e90b41c494ed43a66c1fc141",
      "31ccf1a5ec564c648e3c8d70fa8da688",
      "b964bebfcd1c402cab5aa7bbda2f6051"
     ]
    },
    "id": "FmRZkvq6ICRu",
    "outputId": "da6cc1c3-b9c5-4a93-b5a9-da3c8c178f22"
   },
   "outputs": [
    {
     "name": "stderr",
     "output_type": "stream",
     "text": [
      " 60%|████████████████████████████████████████▏                          | 3/5 [00:00<00:00, 24.53it/s]"
     ]
    },
    {
     "name": "stdout",
     "output_type": "stream",
     "text": [
      "Test: 1 | Input Size: 20\n",
      "--------\n",
      "Bottom-Up Sort Duration : 0.0002 || Top-Down Merge Sort Duration : 0.0005\n",
      "Bottom-Up Sort Duration : 0.0002 || Top-Down Merge Sort Duration : 0.0002\n",
      "Bottom-Up Sort Duration : 0.0001 || Top-Down Merge Sort Duration : 0.0002\n",
      "Bottom-Up Sort Duration : 0.0001 || Top-Down Merge Sort Duration : 0.0002\n",
      "Bottom-Up Sort Duration : 0.0001 || Top-Down Merge Sort Duration : 0.0002\n",
      "Bottom-Up Sort Duration : 0.0001 || Top-Down Merge Sort Duration : 0.0001\n",
      "Bottom-Up Sort Duration : 0.0001 || Top-Down Merge Sort Duration : 0.0001\n",
      "Bottom-Up Sort Duration : 0.0001 || Top-Down Merge Sort Duration : 0.0002\n",
      "Bottom-Up Sort Duration : 0.0001 || Top-Down Merge Sort Duration : 0.0001\n",
      "Bottom-Up Sort Duration : 0.0002 || Top-Down Merge Sort Duration : 0.0002\n",
      "\n",
      "\n",
      "Test: 2 | Input Size: 200\n",
      "--------\n",
      "Bottom-Up Sort Duration : 0.0021 || Top-Down Merge Sort Duration : 0.0013\n",
      "Bottom-Up Sort Duration : 0.0013 || Top-Down Merge Sort Duration : 0.0017\n",
      "Bottom-Up Sort Duration : 0.0012 || Top-Down Merge Sort Duration : 0.0016\n",
      "Bottom-Up Sort Duration : 0.0013 || Top-Down Merge Sort Duration : 0.0017\n",
      "Bottom-Up Sort Duration : 0.0017 || Top-Down Merge Sort Duration : 0.0020\n",
      "Bottom-Up Sort Duration : 0.0013 || Top-Down Merge Sort Duration : 0.0013\n",
      "Bottom-Up Sort Duration : 0.0010 || Top-Down Merge Sort Duration : 0.0013\n",
      "Bottom-Up Sort Duration : 0.0011 || Top-Down Merge Sort Duration : 0.0015\n",
      "Bottom-Up Sort Duration : 0.0012 || Top-Down Merge Sort Duration : 0.0016\n",
      "Bottom-Up Sort Duration : 0.0010 || Top-Down Merge Sort Duration : 0.0013\n",
      "\n",
      "\n",
      "Test: 3 | Input Size: 1000\n",
      "--------\n",
      "Bottom-Up Sort Duration : 0.0063 || Top-Down Merge Sort Duration : 0.0077\n",
      "Bottom-Up Sort Duration : 0.0064 || Top-Down Merge Sort Duration : 0.0078\n",
      "Bottom-Up Sort Duration : 0.0061 || Top-Down Merge Sort Duration : 0.0037\n",
      "Bottom-Up Sort Duration : 0.0024 || Top-Down Merge Sort Duration : 0.0027\n",
      "Bottom-Up Sort Duration : 0.0024 || Top-Down Merge Sort Duration : 0.0027\n",
      "Bottom-Up Sort Duration : 0.0024 || Top-Down Merge Sort Duration : 0.0029\n",
      "Bottom-Up Sort Duration : 0.0024 || Top-Down Merge Sort Duration : 0.0027\n",
      "Bottom-Up Sort Duration : 0.0024 || Top-Down Merge Sort Duration : 0.0027\n",
      "Bottom-Up Sort Duration : 0.0025 || Top-Down Merge Sort Duration : 0.0027\n",
      "Bottom-Up Sort Duration : 0.0024 || Top-Down Merge Sort Duration : 0.0027\n",
      "\n",
      "\n",
      "Test: 4 | Input Size: 2000\n",
      "--------\n",
      "Bottom-Up Sort Duration : 0.0055 || Top-Down Merge Sort Duration : 0.0060\n",
      "Bottom-Up Sort Duration : 0.0055 || Top-Down Merge Sort Duration : 0.0064\n",
      "Bottom-Up Sort Duration : 0.0052 || Top-Down Merge Sort Duration : 0.0059\n",
      "Bottom-Up Sort Duration : 0.0053 || Top-Down Merge Sort Duration : 0.0059\n",
      "Bottom-Up Sort Duration : 0.0053 || Top-Down Merge Sort Duration : 0.0060\n",
      "Bottom-Up Sort Duration : 0.0053 || Top-Down Merge Sort Duration : 0.0059\n",
      "Bottom-Up Sort Duration : 0.0054 || Top-Down Merge Sort Duration : 0.0063\n",
      "Bottom-Up Sort Duration : 0.0061 || Top-Down Merge Sort Duration : 0.0066\n",
      "Bottom-Up Sort Duration : 0.0055 || Top-Down Merge Sort Duration : 0.0060\n",
      "Bottom-Up Sort Duration : 0.0061 || Top-Down Merge Sort Duration : 0.0073\n",
      "\n",
      "\n",
      "Test: 5 | Input Size: 4000\n",
      "--------\n",
      "Bottom-Up Sort Duration : 0.0127 || Top-Down Merge Sort Duration : 0.0130\n",
      "Bottom-Up Sort Duration : 0.0112 || Top-Down Merge Sort Duration : 0.0122\n",
      "Bottom-Up Sort Duration : 0.0111 || Top-Down Merge Sort Duration : 0.0125\n",
      "Bottom-Up Sort Duration : 0.0113 || Top-Down Merge Sort Duration : 0.0123\n",
      "Bottom-Up Sort Duration : 0.0111 || Top-Down Merge Sort Duration : 0.0124\n",
      "Bottom-Up Sort Duration : 0.0112 || Top-Down Merge Sort Duration : 0.0123\n"
     ]
    },
    {
     "name": "stderr",
     "output_type": "stream",
     "text": [
      "100%|███████████████████████████████████████████████████████████████████| 5/5 [00:00<00:00,  9.46it/s]"
     ]
    },
    {
     "name": "stdout",
     "output_type": "stream",
     "text": [
      "Bottom-Up Sort Duration : 0.0116 || Top-Down Merge Sort Duration : 0.0126\n",
      "Bottom-Up Sort Duration : 0.0115 || Top-Down Merge Sort Duration : 0.0163\n",
      "Bottom-Up Sort Duration : 0.0111 || Top-Down Merge Sort Duration : 0.0122\n",
      "Bottom-Up Sort Duration : 0.0111 || Top-Down Merge Sort Duration : 0.0126\n",
      "\n",
      "\n"
     ]
    },
    {
     "name": "stderr",
     "output_type": "stream",
     "text": [
      "\n"
     ]
    }
   ],
   "source": [
    "# Get time averages per input size\n",
    "time_averages_per_size = input_size_init(\n",
    "    input_size = 20,\n",
    "    tests_per_input_size = 10\n",
    ")"
   ]
  },
  {
   "cell_type": "code",
   "execution_count": 25,
   "metadata": {
    "colab": {
     "base_uri": "https://localhost:8080/"
    },
    "id": "OSQECmDVH6d-",
    "outputId": "8d0a1bd5-60f9-4401-ac65-285d9ce912c1"
   },
   "outputs": [
    {
     "data": {
      "text/plain": [
       "dict_keys(['bottom_up_time_avg', 'top_down_time_avg', 'input_size'])"
      ]
     },
     "execution_count": 25,
     "metadata": {},
     "output_type": "execute_result"
    }
   ],
   "source": [
    "time_averages_per_size.keys()"
   ]
  },
  {
   "cell_type": "code",
   "execution_count": 26,
   "metadata": {
    "colab": {
     "base_uri": "https://localhost:8080/",
     "height": 206
    },
    "id": "dkVqusOJlPsy",
    "outputId": "bb8db442-1717-4af4-cd97-35296104fa55"
   },
   "outputs": [
    {
     "data": {
      "text/html": [
       "<div>\n",
       "<style scoped>\n",
       "    .dataframe tbody tr th:only-of-type {\n",
       "        vertical-align: middle;\n",
       "    }\n",
       "\n",
       "    .dataframe tbody tr th {\n",
       "        vertical-align: top;\n",
       "    }\n",
       "\n",
       "    .dataframe thead th {\n",
       "        text-align: right;\n",
       "    }\n",
       "</style>\n",
       "<table border=\"1\" class=\"dataframe\">\n",
       "  <thead>\n",
       "    <tr style=\"text-align: right;\">\n",
       "      <th></th>\n",
       "      <th>bottom_up_time_avg</th>\n",
       "      <th>top_down_time_avg</th>\n",
       "      <th>input_size</th>\n",
       "    </tr>\n",
       "  </thead>\n",
       "  <tbody>\n",
       "    <tr>\n",
       "      <th>0</th>\n",
       "      <td>0.000140</td>\n",
       "      <td>0.000186</td>\n",
       "      <td>20</td>\n",
       "    </tr>\n",
       "    <tr>\n",
       "      <th>1</th>\n",
       "      <td>0.001324</td>\n",
       "      <td>0.001525</td>\n",
       "      <td>200</td>\n",
       "    </tr>\n",
       "    <tr>\n",
       "      <th>2</th>\n",
       "      <td>0.003583</td>\n",
       "      <td>0.003849</td>\n",
       "      <td>1000</td>\n",
       "    </tr>\n",
       "    <tr>\n",
       "      <th>3</th>\n",
       "      <td>0.005527</td>\n",
       "      <td>0.006228</td>\n",
       "      <td>2000</td>\n",
       "    </tr>\n",
       "    <tr>\n",
       "      <th>4</th>\n",
       "      <td>0.011380</td>\n",
       "      <td>0.012835</td>\n",
       "      <td>4000</td>\n",
       "    </tr>\n",
       "  </tbody>\n",
       "</table>\n",
       "</div>"
      ],
      "text/plain": [
       "   bottom_up_time_avg  top_down_time_avg  input_size\n",
       "0            0.000140           0.000186          20\n",
       "1            0.001324           0.001525         200\n",
       "2            0.003583           0.003849        1000\n",
       "3            0.005527           0.006228        2000\n",
       "4            0.011380           0.012835        4000"
      ]
     },
     "execution_count": 26,
     "metadata": {},
     "output_type": "execute_result"
    }
   ],
   "source": [
    "averages_df = pd.DataFrame(time_averages_per_size)\n",
    "averages_df"
   ]
  },
  {
   "cell_type": "code",
   "execution_count": 28,
   "metadata": {
    "colab": {
     "base_uri": "https://localhost:8080/"
    },
    "id": "qatKzdQxjt3g",
    "outputId": "2b35e22b-ed8c-477b-d812-b04f83547039"
   },
   "outputs": [
    {
     "data": {
      "text/plain": [
       "5"
      ]
     },
     "execution_count": 28,
     "metadata": {},
     "output_type": "execute_result"
    }
   ],
   "source": [
    "basic_time_avg = time_averages_per_size[\"bottom_up_time_avg\"]\n",
    "length = len(basic_time_avg)\n",
    "length"
   ]
  },
  {
   "cell_type": "code",
   "execution_count": 35,
   "metadata": {
    "id": "4p8UNLMvNmyg"
   },
   "outputs": [],
   "source": [
    "def plot_durations(\n",
    "    results: dict[str, list[float]]\n",
    "):\n",
    "  \"\"\"Plot the durations of Basic and Top-Down Merge Sorts\"\"\"\n",
    "  # Get the values from the dictionary\n",
    "  basic_time_avg = results[\"bottom_up_time_avg\"]\n",
    "  top_down_time_avg = results[\"top_down_time_avg\"]\n",
    "  input_size = results[\"input_size\"]\n",
    "  # length = range(len(basic_time_avg))\n",
    "\n",
    "  # Set the figure size\n",
    "  plt.figure(figsize=(8, 6))\n",
    "\n",
    "  # Plot the durations\n",
    "  plt.plot(input_size, basic_time_avg, label = \"Bottom-Up Merge Sort Time Average\", marker='o')\n",
    "  plt.plot(input_size, top_down_time_avg, label = \"Top-Down Merge Sort Time Average\", marker='o')\n",
    "  plt.title(\"Bottom-Up and Top-Down Merge Sorts Average Durations\")\n",
    "  plt.xlabel(\"Input Sizes\")\n",
    "  plt.legend()"
   ]
  },
  {
   "cell_type": "code",
   "execution_count": 36,
   "metadata": {
    "colab": {
     "base_uri": "https://localhost:8080/",
     "height": 564
    },
    "id": "zV5-9fsPPnoK",
    "outputId": "7d4dd34d-8647-45e2-e88c-0e8c1036ab89"
   },
   "outputs": [
    {
     "data": {
      "image/png": "[encoded data removed]",
      "text/plain": [
       "<Figure size 800x600 with 1 Axes>"
      ]
     },
     "metadata": {},
     "output_type": "display_data"
    }
   ],
   "source": [
    "plot_durations(time_averages_per_size)"
   ]
  }
 ],
 "metadata": {
  "colab": {
   "authorship_tag": "ABX9TyOFS4upGvFdBivsjNg8uuVe",
   "include_colab_link": true,
   "provenance": []
  },
  "kernelspec": {
   "display_name": "Python 3 (ipykernel)",
   "language": "python",
   "name": "python3"
  },
  "language_info": {
   "codemirror_mode": {
    "name": "ipython",
    "version": 3
   },
   "file_extension": ".py",
   "mimetype": "text/x-python",
   "name": "python",
   "nbconvert_exporter": "python",
   "pygments_lexer": "ipython3",
   "version": "3.11.5"
  },
  "widgets": {
   "application/vnd.jupyter.widget-state+json": {
    "1d54b0753c4849d6b2193cd99493b10b": {
     "model_module": "@jupyter-widgets/controls",
     "model_module_version": "1.5.0",
     "model_name": "HBoxModel",
     "state": {
      "_dom_classes": [],
      "_model_module": "@jupyter-widgets/controls",
      "_model_module_version": "1.5.0",
      "_model_name": "HBoxModel",
      "_view_count": null,
      "_view_module": "@jupyter-widgets/controls",
      "_view_module_version": "1.5.0",
      "_view_name": "HBoxView",
      "box_style": "",
      "children": [
       "IPY_MODEL_cd8db52836a24bbb8a3ea30ba7451df3",
       "IPY_MODEL_57dac9a9c83d41b1af0dd465ae34cb98",
       "IPY_MODEL_ce28a3c9e14545dbb380dc845c9895b5"
      ],
      "layout": "IPY_MODEL_97bc5166f8b34fb4871897dbec637685"
     }
    },
    "31ccf1a5ec564c648e3c8d70fa8da688": {
     "model_module": "@jupyter-widgets/base",
     "model_module_version": "1.2.0",
     "model_name": "LayoutModel",
     "state": {
      "_model_module": "@jupyter-widgets/base",
      "_model_module_version": "1.2.0",
      "_model_name": "LayoutModel",
      "_view_count": null,
      "_view_module": "@jupyter-widgets/base",
      "_view_module_version": "1.2.0",
      "_view_name": "LayoutView",
      "align_content": null,
      "align_items": null,
      "align_self": null,
      "border": null,
      "bottom": null,
      "display": null,
      "flex": null,
      "flex_flow": null,
      "grid_area": null,
      "grid_auto_columns": null,
      "grid_auto_flow": null,
      "grid_auto_rows": null,
      "grid_column": null,
      "grid_gap": null,
      "grid_row": null,
      "grid_template_areas": null,
      "grid_template_columns": null,
      "grid_template_rows": null,
      "height": null,
      "justify_content": null,
      "justify_items": null,
      "left": null,
      "margin": null,
      "max_height": null,
      "max_width": null,
      "min_height": null,
      "min_width": null,
      "object_fit": null,
      "object_position": null,
      "order": null,
      "overflow": null,
      "overflow_x": null,
      "overflow_y": null,
      "padding": null,
      "right": null,
      "top": null,
      "visibility": null,
      "width": null
     }
    },
    "43cb74c0ece142f3bd07529093e22c33": {
     "model_module": "@jupyter-widgets/base",
     "model_module_version": "1.2.0",
     "model_name": "LayoutModel",
     "state": {
      "_model_module": "@jupyter-widgets/base",
      "_model_module_version": "1.2.0",
      "_model_name": "LayoutModel",
      "_view_count": null,
      "_view_module": "@jupyter-widgets/base",
      "_view_module_version": "1.2.0",
      "_view_name": "LayoutView",
      "align_content": null,
      "align_items": null,
      "align_self": null,
      "border": null,
      "bottom": null,
      "display": null,
      "flex": null,
      "flex_flow": null,
      "grid_area": null,
      "grid_auto_columns": null,
      "grid_auto_flow": null,
      "grid_auto_rows": null,
      "grid_column": null,
      "grid_gap": null,
      "grid_row": null,
      "grid_template_areas": null,
      "grid_template_columns": null,
      "grid_template_rows": null,
      "height": null,
      "justify_content": null,
      "justify_items": null,
      "left": null,
      "margin": null,
      "max_height": null,
      "max_width": null,
      "min_height": null,
      "min_width": null,
      "object_fit": null,
      "object_position": null,
      "order": null,
      "overflow": null,
      "overflow_x": null,
      "overflow_y": null,
      "padding": null,
      "right": null,
      "top": null,
      "visibility": null,
      "width": null
     }
    },
    "57dac9a9c83d41b1af0dd465ae34cb98": {
     "model_module": "@jupyter-widgets/controls",
     "model_module_version": "1.5.0",
     "model_name": "FloatProgressModel",
     "state": {
      "_dom_classes": [],
      "_model_module": "@jupyter-widgets/controls",
      "_model_module_version": "1.5.0",
      "_model_name": "FloatProgressModel",
      "_view_count": null,
      "_view_module": "@jupyter-widgets/controls",
      "_view_module_version": "1.5.0",
      "_view_name": "ProgressView",
      "bar_style": "success",
      "description": "",
      "description_tooltip": null,
      "layout": "IPY_MODEL_6bbdf47fb44b4c7ea85c1ace2db1c6dc",
      "max": 5,
      "min": 0,
      "orientation": "horizontal",
      "style": "IPY_MODEL_8ba1c5c3e90b41c494ed43a66c1fc141",
      "value": 5
     }
    },
    "6bbdf47fb44b4c7ea85c1ace2db1c6dc": {
     "model_module": "@jupyter-widgets/base",
     "model_module_version": "1.2.0",
     "model_name": "LayoutModel",
     "state": {
      "_model_module": "@jupyter-widgets/base",
      "_model_module_version": "1.2.0",
      "_model_name": "LayoutModel",
      "_view_count": null,
      "_view_module": "@jupyter-widgets/base",
      "_view_module_version": "1.2.0",
      "_view_name": "LayoutView",
      "align_content": null,
      "align_items": null,
      "align_self": null,
      "border": null,
      "bottom": null,
      "display": null,
      "flex": null,
      "flex_flow": null,
      "grid_area": null,
      "grid_auto_columns": null,
      "grid_auto_flow": null,
      "grid_auto_rows": null,
      "grid_column": null,
      "grid_gap": null,
      "grid_row": null,
      "grid_template_areas": null,
      "grid_template_columns": null,
      "grid_template_rows": null,
      "height": null,
      "justify_content": null,
      "justify_items": null,
      "left": null,
      "margin": null,
      "max_height": null,
      "max_width": null,
      "min_height": null,
      "min_width": null,
      "object_fit": null,
      "object_position": null,
      "order": null,
      "overflow": null,
      "overflow_x": null,
      "overflow_y": null,
      "padding": null,
      "right": null,
      "top": null,
      "visibility": null,
      "width": null
     }
    },
    "8ba1c5c3e90b41c494ed43a66c1fc141": {
     "model_module": "@jupyter-widgets/controls",
     "model_module_version": "1.5.0",
     "model_name": "ProgressStyleModel",
     "state": {
      "_model_module": "@jupyter-widgets/controls",
      "_model_module_version": "1.5.0",
      "_model_name": "ProgressStyleModel",
      "_view_count": null,
      "_view_module": "@jupyter-widgets/base",
      "_view_module_version": "1.2.0",
      "_view_name": "StyleView",
      "bar_color": null,
      "description_width": ""
     }
    },
    "97bc5166f8b34fb4871897dbec637685": {
     "model_module": "@jupyter-widgets/base",
     "model_module_version": "1.2.0",
     "model_name": "LayoutModel",
     "state": {
      "_model_module": "@jupyter-widgets/base",
      "_model_module_version": "1.2.0",
      "_model_name": "LayoutModel",
      "_view_count": null,
      "_view_module": "@jupyter-widgets/base",
      "_view_module_version": "1.2.0",
      "_view_name": "LayoutView",
      "align_content": null,
      "align_items": null,
      "align_self": null,
      "border": null,
      "bottom": null,
      "display": null,
      "flex": null,
      "flex_flow": null,
      "grid_area": null,
      "grid_auto_columns": null,
      "grid_auto_flow": null,
      "grid_auto_rows": null,
      "grid_column": null,
      "grid_gap": null,
      "grid_row": null,
      "grid_template_areas": null,
      "grid_template_columns": null,
      "grid_template_rows": null,
      "height": null,
      "justify_content": null,
      "justify_items": null,
      "left": null,
      "margin": null,
      "max_height": null,
      "max_width": null,
      "min_height": null,
      "min_width": null,
      "object_fit": null,
      "object_position": null,
      "order": null,
      "overflow": null,
      "overflow_x": null,
      "overflow_y": null,
      "padding": null,
      "right": null,
      "top": null,
      "visibility": null,
      "width": null
     }
    },
    "9c8e738d0e784333b2cfc713801795c8": {
     "model_module": "@jupyter-widgets/controls",
     "model_module_version": "1.5.0",
     "model_name": "DescriptionStyleModel",
     "state": {
      "_model_module": "@jupyter-widgets/controls",
      "_model_module_version": "1.5.0",
      "_model_name": "DescriptionStyleModel",
      "_view_count": null,
      "_view_module": "@jupyter-widgets/base",
      "_view_module_version": "1.2.0",
      "_view_name": "StyleView",
      "description_width": ""
     }
    },
    "b964bebfcd1c402cab5aa7bbda2f6051": {
     "model_module": "@jupyter-widgets/controls",
     "model_module_version": "1.5.0",
     "model_name": "DescriptionStyleModel",
     "state": {
      "_model_module": "@jupyter-widgets/controls",
      "_model_module_version": "1.5.0",
      "_model_name": "DescriptionStyleModel",
      "_view_count": null,
      "_view_module": "@jupyter-widgets/base",
      "_view_module_version": "1.2.0",
      "_view_name": "StyleView",
      "description_width": ""
     }
    },
    "cd8db52836a24bbb8a3ea30ba7451df3": {
     "model_module": "@jupyter-widgets/controls",
     "model_module_version": "1.5.0",
     "model_name": "HTMLModel",
     "state": {
      "_dom_classes": [],
      "_model_module": "@jupyter-widgets/controls",
      "_model_module_version": "1.5.0",
      "_model_name": "HTMLModel",
      "_view_count": null,
      "_view_module": "@jupyter-widgets/controls",
      "_view_module_version": "1.5.0",
      "_view_name": "HTMLView",
      "description": "",
      "description_tooltip": null,
      "layout": "IPY_MODEL_43cb74c0ece142f3bd07529093e22c33",
      "placeholder": "​",
      "style": "IPY_MODEL_9c8e738d0e784333b2cfc713801795c8",
      "value": "100%"
     }
    },
    "ce28a3c9e14545dbb380dc845c9895b5": {
     "model_module": "@jupyter-widgets/controls",
     "model_module_version": "1.5.0",
     "model_name": "HTMLModel",
     "state": {
      "_dom_classes": [],
      "_model_module": "@jupyter-widgets/controls",
      "_model_module_version": "1.5.0",
      "_model_name": "HTMLModel",
      "_view_count": null,
      "_view_module": "@jupyter-widgets/controls",
      "_view_module_version": "1.5.0",
      "_view_name": "HTMLView",
      "description": "",
      "description_tooltip": null,
      "layout": "IPY_MODEL_31ccf1a5ec564c648e3c8d70fa8da688",
      "placeholder": "​",
      "style": "IPY_MODEL_b964bebfcd1c402cab5aa7bbda2f6051",
      "value": " 5/5 [00:00&lt;00:00,  4.44it/s]"
     }
    }
   }
  }
 },
 "nbformat": 4,
 "nbformat_minor": 4
}
